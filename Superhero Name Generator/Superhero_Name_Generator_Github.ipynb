{
  "nbformat": 4,
  "nbformat_minor": 0,
  "metadata": {
    "colab": {
      "name": "Superhero Name Generator - Github.ipynb",
      "provenance": [],
      "collapsed_sections": []
    },
    "kernelspec": {
      "display_name": "Python 3",
      "language": "python",
      "name": "python3"
    },
    "language_info": {
      "codemirror_mode": {
        "name": "ipython",
        "version": 3
      },
      "file_extension": ".py",
      "mimetype": "text/x-python",
      "name": "python",
      "nbconvert_exporter": "python",
      "pygments_lexer": "ipython3",
      "version": "3.8.5"
    }
  },
  "cells": [
    {
      "cell_type": "markdown",
      "metadata": {
        "id": "21XXWP7Fpt2L"
      },
      "source": [
        "# Superhero (and Supervillain) Name Generator\n",
        "\n",
        "---\n",
        "\n",
        "[Superhero Names Dataset](https://github.com/am1tyadav/superhero)"
      ]
    },
    {
      "cell_type": "markdown",
      "metadata": {
        "id": "H6P0NU5Cpt2R"
      },
      "source": [
        "## Task 2\n",
        "\n",
        "1. Import the data\n",
        "2. Create a tokenizer\n",
        "3. Char to index and Index to char dictionaries"
      ]
    },
    {
      "cell_type": "code",
      "metadata": {
        "colab": {
          "base_uri": "https://localhost:8080/"
        },
        "id": "srULhalZpt2M",
        "outputId": "01b4abcf-fc26-42ea-b7d5-a38333567a5d"
      },
      "source": [
        "!git clone https://github.com/am1tyadav/superhero"
      ],
      "execution_count": null,
      "outputs": [
        {
          "output_type": "stream",
          "text": [
            "Cloning into 'superhero'...\n",
            "remote: Enumerating objects: 8, done.\u001b[K\n",
            "remote: Counting objects: 100% (8/8), done.\u001b[K\n",
            "remote: Compressing objects: 100% (7/7), done.\u001b[K\n",
            "remote: Total 8 (delta 0), reused 4 (delta 0), pack-reused 0\u001b[K\n",
            "Unpacking objects: 100% (8/8), done.\n"
          ],
          "name": "stdout"
        }
      ]
    },
    {
      "cell_type": "code",
      "metadata": {
        "colab": {
          "base_uri": "https://localhost:8080/",
          "height": 35
        },
        "id": "uq4CLmsLpt2P",
        "outputId": "d9401421-29d1-4fde-9ef2-5b075f39ae20"
      },
      "source": [
        "with open('superhero/superheroes.txt', 'r') as f:\n",
        "  data = f.read()\n",
        "\n",
        "data[:100]"
      ],
      "execution_count": null,
      "outputs": [
        {
          "output_type": "execute_result",
          "data": {
            "application/vnd.google.colaboratory.intrinsic+json": {
              "type": "string"
            },
            "text/plain": [
              "'jumpa\\t\\ndoctor fate\\t\\nstarlight\\t\\nisildur\\t\\nlasher\\t\\nvarvara\\t\\nthe target\\t\\naxel\\t\\nbattra\\t\\nchangeling\\t\\npyrrh'"
            ]
          },
          "metadata": {
            "tags": []
          },
          "execution_count": 1
        }
      ]
    },
    {
      "cell_type": "code",
      "metadata": {
        "colab": {
          "base_uri": "https://localhost:8080/"
        },
        "id": "JqhtLuAHpt2R",
        "outputId": "cdc41a11-802a-4e12-d129-c49342974607"
      },
      "source": [
        "import tensorflow as tf \n",
        "import keras\n",
        "\n",
        "print(tf.__version__)\n",
        "print(keras.__version__)\n",
        "\n",
        "!python --version"
      ],
      "execution_count": null,
      "outputs": [
        {
          "output_type": "stream",
          "text": [
            "2.5.0\n",
            "2.5.0\n",
            "Python 3.7.10\n"
          ],
          "name": "stdout"
        }
      ]
    },
    {
      "cell_type": "code",
      "metadata": {
        "id": "95Lo1Yqzpt2T"
      },
      "source": [
        "tokenizer = tf.keras.preprocessing.text.Tokenizer(\n",
        "    filters='!\"#$%&()*+,-./:;<=>?@[\\\\]^_`{|}~',\n",
        "    split='\\n',\n",
        ")"
      ],
      "execution_count": null,
      "outputs": []
    },
    {
      "cell_type": "code",
      "metadata": {
        "id": "qYfC4sj2pt2V"
      },
      "source": [
        "tokenizer.fit_on_texts(data)"
      ],
      "execution_count": null,
      "outputs": []
    },
    {
      "cell_type": "code",
      "metadata": {
        "colab": {
          "base_uri": "https://localhost:8080/"
        },
        "id": "RGCyd9vpcxXD",
        "outputId": "f301746e-f4b3-4c57-8ea0-47f71fece62a"
      },
      "source": [
        "tokenizer"
      ],
      "execution_count": null,
      "outputs": [
        {
          "output_type": "execute_result",
          "data": {
            "text/plain": [
              "<keras_preprocessing.text.Tokenizer at 0x7f59cfe54f50>"
            ]
          },
          "metadata": {
            "tags": []
          },
          "execution_count": 5
        }
      ]
    },
    {
      "cell_type": "code",
      "metadata": {
        "colab": {
          "base_uri": "https://localhost:8080/"
        },
        "id": "EO4-dPM6pt2X",
        "outputId": "74c529e1-0ce8-496c-8bb5-e4b5cb2d1b27"
      },
      "source": [
        "char_to_index = tokenizer.word_index\n",
        "index_to_char = dict((v, k) for k, v in char_to_index.items())\n",
        "\n",
        "print(index_to_char)"
      ],
      "execution_count": null,
      "outputs": [
        {
          "output_type": "stream",
          "text": [
            "{1: '\\t', 2: 'a', 3: 'e', 4: 'r', 5: 'o', 6: 'n', 7: 'i', 8: ' ', 9: 't', 10: 's', 11: 'l', 12: 'm', 13: 'h', 14: 'd', 15: 'c', 16: 'u', 17: 'g', 18: 'k', 19: 'b', 20: 'p', 21: 'y', 22: 'w', 23: 'f', 24: 'v', 25: 'j', 26: 'z', 27: 'x', 28: 'q'}\n"
          ],
          "name": "stdout"
        }
      ]
    },
    {
      "cell_type": "code",
      "metadata": {
        "id": "w_jSGnRlcW4U"
      },
      "source": [
        "import pickle\n",
        "\n",
        "with open(\"tokenizer.pkl\", \"wb\") as f:\n",
        "  pickle.dump(tokenizer, f)\n",
        "\n",
        "\n",
        "with open(\"index_to_char.pkl\", \"wb\") as f:\n",
        "  pickle.dump(index_to_char, f)"
      ],
      "execution_count": null,
      "outputs": []
    },
    {
      "cell_type": "markdown",
      "metadata": {
        "id": "SMwtIw_Bpt2Z"
      },
      "source": [
        "## Task 3\n",
        "\n",
        "1. Converting between names and sequences"
      ]
    },
    {
      "cell_type": "code",
      "metadata": {
        "colab": {
          "base_uri": "https://localhost:8080/"
        },
        "id": "N7iQLIXzpt2a",
        "outputId": "c99186db-f22f-4dee-bfe8-1690b4f6707e"
      },
      "source": [
        "names = data.splitlines()\n",
        "names[:10]"
      ],
      "execution_count": null,
      "outputs": [
        {
          "output_type": "execute_result",
          "data": {
            "text/plain": [
              "['jumpa\\t',\n",
              " 'doctor fate\\t',\n",
              " 'starlight\\t',\n",
              " 'isildur\\t',\n",
              " 'lasher\\t',\n",
              " 'varvara\\t',\n",
              " 'the target\\t',\n",
              " 'axel\\t',\n",
              " 'battra\\t',\n",
              " 'changeling\\t']"
            ]
          },
          "metadata": {
            "tags": []
          },
          "execution_count": 8
        }
      ]
    },
    {
      "cell_type": "code",
      "metadata": {
        "colab": {
          "base_uri": "https://localhost:8080/"
        },
        "id": "n_-TTfqipt2c",
        "outputId": "8fcb5510-da1a-4321-bf9e-4900300743cd"
      },
      "source": [
        "tokenizer.texts_to_sequences(names[0])"
      ],
      "execution_count": null,
      "outputs": [
        {
          "output_type": "execute_result",
          "data": {
            "text/plain": [
              "[[25], [16], [12], [20], [2], [1]]"
            ]
          },
          "metadata": {
            "tags": []
          },
          "execution_count": 9
        }
      ]
    },
    {
      "cell_type": "code",
      "metadata": {
        "id": "P6IsKH1Upt2e"
      },
      "source": [
        "def name_to_seq(name):\n",
        "  return [tokenizer.texts_to_sequences(c)[0][0] for c in name]"
      ],
      "execution_count": null,
      "outputs": []
    },
    {
      "cell_type": "code",
      "metadata": {
        "colab": {
          "base_uri": "https://localhost:8080/"
        },
        "id": "TuLUiMP3pt2g",
        "outputId": "19bb43b5-1418-40b6-a05f-38d8daabf6d7"
      },
      "source": [
        "name_to_seq(names[0])"
      ],
      "execution_count": null,
      "outputs": [
        {
          "output_type": "execute_result",
          "data": {
            "text/plain": [
              "[25, 16, 12, 20, 2, 1]"
            ]
          },
          "metadata": {
            "tags": []
          },
          "execution_count": 11
        }
      ]
    },
    {
      "cell_type": "code",
      "metadata": {
        "id": "yFUYhimKpt2h"
      },
      "source": [
        "def seq_to_name(seq):\n",
        "  return ''.join([index_to_char[i] for i in seq if i != 0])"
      ],
      "execution_count": null,
      "outputs": []
    },
    {
      "cell_type": "code",
      "metadata": {
        "colab": {
          "base_uri": "https://localhost:8080/",
          "height": 35
        },
        "id": "ROhCqmhLpt2k",
        "outputId": "771abfb5-f0bd-422a-8787-998cdc59b957"
      },
      "source": [
        "seq_to_name(name_to_seq(names[0]))"
      ],
      "execution_count": null,
      "outputs": [
        {
          "output_type": "execute_result",
          "data": {
            "application/vnd.google.colaboratory.intrinsic+json": {
              "type": "string"
            },
            "text/plain": [
              "'jumpa\\t'"
            ]
          },
          "metadata": {
            "tags": []
          },
          "execution_count": 13
        }
      ]
    },
    {
      "cell_type": "markdown",
      "metadata": {
        "id": "uCbAzsNjpt2m"
      },
      "source": [
        "## Task 4\n",
        "\n",
        "1. Creating sequences\n",
        "2. Padding all sequences"
      ]
    },
    {
      "cell_type": "code",
      "metadata": {
        "id": "zstNn-0dpt2m"
      },
      "source": [
        "sequences= []\n",
        "\n",
        "for name in names:\n",
        "  seq = name_to_seq(name)\n",
        "  if len(seq) >= 2:\n",
        "    sequences += [seq[:i] for i in range(2, len(seq) + 1)]"
      ],
      "execution_count": null,
      "outputs": []
    },
    {
      "cell_type": "code",
      "metadata": {
        "colab": {
          "base_uri": "https://localhost:8080/"
        },
        "id": "BjRTMysvpt2o",
        "outputId": "23933a0b-5f8c-450e-c6df-20e491ab5a88"
      },
      "source": [
        "sequences[:10]"
      ],
      "execution_count": null,
      "outputs": [
        {
          "output_type": "execute_result",
          "data": {
            "text/plain": [
              "[[25, 16],\n",
              " [25, 16, 12],\n",
              " [25, 16, 12, 20],\n",
              " [25, 16, 12, 20, 2],\n",
              " [25, 16, 12, 20, 2, 1],\n",
              " [14, 5],\n",
              " [14, 5, 15],\n",
              " [14, 5, 15, 9],\n",
              " [14, 5, 15, 9, 5],\n",
              " [14, 5, 15, 9, 5, 4]]"
            ]
          },
          "metadata": {
            "tags": []
          },
          "execution_count": 15
        }
      ]
    },
    {
      "cell_type": "code",
      "metadata": {
        "colab": {
          "base_uri": "https://localhost:8080/"
        },
        "id": "SR68pu2tpt2q",
        "outputId": "398a1190-a268-4e1e-f6b4-0e8319c1639e"
      },
      "source": [
        "max_len = max([len(x) for x in sequences])\n",
        "print(max_len)"
      ],
      "execution_count": null,
      "outputs": [
        {
          "output_type": "stream",
          "text": [
            "33\n"
          ],
          "name": "stdout"
        }
      ]
    },
    {
      "cell_type": "code",
      "metadata": {
        "colab": {
          "base_uri": "https://localhost:8080/"
        },
        "id": "h_1BtWO7pt2r",
        "outputId": "09dfd1d5-408b-430c-b25d-389fe1be4c42"
      },
      "source": [
        "padded_sequences = tf.keras.preprocessing.sequence.pad_sequences(\n",
        "    sequences, padding='pre',\n",
        "    maxlen=max_len\n",
        ")\n",
        "\n",
        "print(padded_sequences[0])"
      ],
      "execution_count": null,
      "outputs": [
        {
          "output_type": "stream",
          "text": [
            "[ 0  0  0  0  0  0  0  0  0  0  0  0  0  0  0  0  0  0  0  0  0  0  0  0\n",
            "  0  0  0  0  0  0  0 25 16]\n"
          ],
          "name": "stdout"
        }
      ]
    },
    {
      "cell_type": "code",
      "metadata": {
        "colab": {
          "base_uri": "https://localhost:8080/"
        },
        "id": "sPlrLRpSpt2t",
        "outputId": "65d2732a-02a8-4b7b-d1bf-95b328791dca"
      },
      "source": [
        "padded_sequences.shape"
      ],
      "execution_count": null,
      "outputs": [
        {
          "output_type": "execute_result",
          "data": {
            "text/plain": [
              "(88279, 33)"
            ]
          },
          "metadata": {
            "tags": []
          },
          "execution_count": 18
        }
      ]
    },
    {
      "cell_type": "markdown",
      "metadata": {
        "id": "4WPypqx8RfRu"
      },
      "source": [
        "## Task 5: Creating Training and Validation Sets\n",
        "\n",
        "1. Creating training and validation sets"
      ]
    },
    {
      "cell_type": "code",
      "metadata": {
        "colab": {
          "base_uri": "https://localhost:8080/"
        },
        "id": "BE4BIeSnpt2v",
        "outputId": "c8c2bfd0-e82f-4ac5-c424-af32ee29724a"
      },
      "source": [
        "x, y = padded_sequences[:, :-1], padded_sequences[:, -1]\n",
        "print(x.shape, y.shape)"
      ],
      "execution_count": null,
      "outputs": [
        {
          "output_type": "stream",
          "text": [
            "(88279, 32) (88279,)\n"
          ],
          "name": "stdout"
        }
      ]
    },
    {
      "cell_type": "code",
      "metadata": {
        "colab": {
          "base_uri": "https://localhost:8080/"
        },
        "id": "jWKfJNVXRfRu",
        "outputId": "9ba66b48-401d-4aaa-dea7-0bef4de7cc16"
      },
      "source": [
        "from sklearn.model_selection import train_test_split\n",
        "\n",
        "x_train, x_test, y_train, y_test = train_test_split(x, y)\n",
        "\n",
        "print(x_train.shape, y_train.shape)\n",
        "print(x_test.shape, y_test.shape)"
      ],
      "execution_count": null,
      "outputs": [
        {
          "output_type": "stream",
          "text": [
            "(66209, 32) (66209,)\n",
            "(22070, 32) (22070,)\n"
          ],
          "name": "stdout"
        }
      ]
    },
    {
      "cell_type": "code",
      "metadata": {
        "colab": {
          "base_uri": "https://localhost:8080/"
        },
        "id": "cgqRZtqnpt2x",
        "outputId": "b373f428-745e-47a4-b686-2d82c8b9b3da"
      },
      "source": [
        "num_chars = len(char_to_index.keys()) + 1\n",
        "print(num_chars)"
      ],
      "execution_count": null,
      "outputs": [
        {
          "output_type": "stream",
          "text": [
            "29\n"
          ],
          "name": "stdout"
        }
      ]
    },
    {
      "cell_type": "markdown",
      "metadata": {
        "id": "UsM2fs3_RfRu"
      },
      "source": [
        "## Task 6: Creating the Model"
      ]
    },
    {
      "cell_type": "code",
      "metadata": {
        "id": "2dPlCmTYRfRu",
        "colab": {
          "base_uri": "https://localhost:8080/"
        },
        "outputId": "60c6dce1-bc7b-4ea5-f763-969f5d2c0123"
      },
      "source": [
        "from tensorflow.keras.models import Sequential\n",
        "from tensorflow.keras.layers import Embedding, Conv1D, MaxPool1D, LSTM\n",
        "from tensorflow.keras.layers import Bidirectional, Dense\n",
        "\n",
        "model = Sequential([\n",
        "            Embedding(num_chars, 16, input_length=max_len-1),\n",
        "            Conv1D(64, 5, strides=1, activation='tanh', padding='causal'),\n",
        "            MaxPool1D(2),\n",
        "            Conv1D(32, 3, strides=1, activation='tanh', padding='causal'),\n",
        "            MaxPool1D(2),\n",
        "            LSTM(32),\n",
        "            # Dense(8),\n",
        "            Dense(num_chars, activation='softmax')\n",
        "])\n",
        "\n",
        "model.compile(\n",
        "    loss='sparse_categorical_crossentropy',\n",
        "    optimizer='adam',\n",
        "    metrics=['accuracy']\n",
        ")\n",
        "\n",
        "model.summary()"
      ],
      "execution_count": null,
      "outputs": [
        {
          "output_type": "stream",
          "text": [
            "Model: \"sequential\"\n",
            "_________________________________________________________________\n",
            "Layer (type)                 Output Shape              Param #   \n",
            "=================================================================\n",
            "embedding (Embedding)        (None, 32, 16)            464       \n",
            "_________________________________________________________________\n",
            "conv1d (Conv1D)              (None, 32, 64)            5184      \n",
            "_________________________________________________________________\n",
            "max_pooling1d (MaxPooling1D) (None, 16, 64)            0         \n",
            "_________________________________________________________________\n",
            "conv1d_1 (Conv1D)            (None, 16, 32)            6176      \n",
            "_________________________________________________________________\n",
            "max_pooling1d_1 (MaxPooling1 (None, 8, 32)             0         \n",
            "_________________________________________________________________\n",
            "lstm (LSTM)                  (None, 32)                8320      \n",
            "_________________________________________________________________\n",
            "dense (Dense)                (None, 29)                957       \n",
            "=================================================================\n",
            "Total params: 21,101\n",
            "Trainable params: 21,101\n",
            "Non-trainable params: 0\n",
            "_________________________________________________________________\n"
          ],
          "name": "stdout"
        }
      ]
    },
    {
      "cell_type": "markdown",
      "metadata": {
        "id": "du_WBvUHRfRu"
      },
      "source": [
        "## Task 7: Training the Model"
      ]
    },
    {
      "cell_type": "code",
      "metadata": {
        "colab": {
          "base_uri": "https://localhost:8080/"
        },
        "id": "j0Ssl4qupt22",
        "outputId": "0a26863f-2754-4a95-e139-23e66aabcf97"
      },
      "source": [
        "h = model.fit(\n",
        "    x_train, y_train,\n",
        "    validation_data=(x_test, y_test),\n",
        "    epochs=30, verbose=1,\n",
        "    callbacks=[\n",
        "               tf.keras.callbacks.EarlyStopping(monitor='val_accuracy', patience=3)\n",
        "    ]\n",
        ")"
      ],
      "execution_count": null,
      "outputs": [
        {
          "output_type": "stream",
          "text": [
            "Train on 66209 samples, validate on 22070 samples\n",
            "Epoch 1/30\n",
            "66209/66209 [==============================] - 21s 313us/sample - loss: 2.3989 - accuracy: 0.2778 - val_loss: 2.4421 - val_accuracy: 0.2681\n",
            "Epoch 2/30\n",
            "66209/66209 [==============================] - 21s 315us/sample - loss: 2.3724 - accuracy: 0.2873 - val_loss: 2.4265 - val_accuracy: 0.2696\n",
            "Epoch 3/30\n",
            "66209/66209 [==============================] - 21s 315us/sample - loss: 2.3455 - accuracy: 0.2945 - val_loss: 2.4062 - val_accuracy: 0.2805\n",
            "Epoch 4/30\n",
            "66209/66209 [==============================] - 21s 314us/sample - loss: 2.3202 - accuracy: 0.3028 - val_loss: 2.4059 - val_accuracy: 0.2824\n",
            "Epoch 5/30\n",
            "66209/66209 [==============================] - 21s 312us/sample - loss: 2.2971 - accuracy: 0.3092 - val_loss: 2.3804 - val_accuracy: 0.2895\n",
            "Epoch 6/30\n",
            "66209/66209 [==============================] - 21s 314us/sample - loss: 2.2758 - accuracy: 0.3168 - val_loss: 2.3769 - val_accuracy: 0.2899\n",
            "Epoch 7/30\n",
            "66209/66209 [==============================] - 21s 312us/sample - loss: 2.2542 - accuracy: 0.3221 - val_loss: 2.3771 - val_accuracy: 0.2937\n",
            "Epoch 8/30\n",
            "66209/66209 [==============================] - 21s 312us/sample - loss: 2.2374 - accuracy: 0.3298 - val_loss: 2.3690 - val_accuracy: 0.3001\n",
            "Epoch 9/30\n",
            "66209/66209 [==============================] - 21s 313us/sample - loss: 2.2178 - accuracy: 0.3349 - val_loss: 2.3659 - val_accuracy: 0.2927\n",
            "Epoch 10/30\n",
            "66209/66209 [==============================] - 21s 312us/sample - loss: 2.2033 - accuracy: 0.3383 - val_loss: 2.3631 - val_accuracy: 0.3013\n",
            "Epoch 11/30\n",
            "66209/66209 [==============================] - 21s 314us/sample - loss: 2.1869 - accuracy: 0.3446 - val_loss: 2.3553 - val_accuracy: 0.3034\n",
            "Epoch 12/30\n",
            "66209/66209 [==============================] - 21s 310us/sample - loss: 2.1723 - accuracy: 0.3496 - val_loss: 2.3525 - val_accuracy: 0.3038\n",
            "Epoch 13/30\n",
            "66209/66209 [==============================] - 21s 315us/sample - loss: 2.1605 - accuracy: 0.3525 - val_loss: 2.3481 - val_accuracy: 0.3053\n",
            "Epoch 14/30\n",
            "66209/66209 [==============================] - 20s 309us/sample - loss: 2.1482 - accuracy: 0.3575 - val_loss: 2.3506 - val_accuracy: 0.3087\n",
            "Epoch 15/30\n",
            "66209/66209 [==============================] - 20s 308us/sample - loss: 2.1370 - accuracy: 0.3611 - val_loss: 2.3451 - val_accuracy: 0.3091\n",
            "Epoch 16/30\n",
            "66209/66209 [==============================] - 21s 318us/sample - loss: 2.1259 - accuracy: 0.3619 - val_loss: 2.3543 - val_accuracy: 0.3067\n",
            "Epoch 17/30\n",
            "66209/66209 [==============================] - 21s 312us/sample - loss: 2.1161 - accuracy: 0.3652 - val_loss: 2.3421 - val_accuracy: 0.3111\n",
            "Epoch 18/30\n",
            "66209/66209 [==============================] - 20s 308us/sample - loss: 2.1071 - accuracy: 0.3681 - val_loss: 2.3526 - val_accuracy: 0.3093\n",
            "Epoch 19/30\n",
            "66209/66209 [==============================] - 21s 315us/sample - loss: 2.0955 - accuracy: 0.3716 - val_loss: 2.3416 - val_accuracy: 0.3102\n",
            "Epoch 20/30\n",
            "66209/66209 [==============================] - 21s 311us/sample - loss: 2.0895 - accuracy: 0.3725 - val_loss: 2.3437 - val_accuracy: 0.3130\n",
            "Epoch 21/30\n",
            "66209/66209 [==============================] - 21s 312us/sample - loss: 2.0794 - accuracy: 0.3751 - val_loss: 2.3505 - val_accuracy: 0.3110\n",
            "Epoch 22/30\n",
            "66209/66209 [==============================] - 21s 310us/sample - loss: 2.0722 - accuracy: 0.3784 - val_loss: 2.3508 - val_accuracy: 0.3111\n",
            "Epoch 23/30\n",
            "66209/66209 [==============================] - 20s 308us/sample - loss: 2.0642 - accuracy: 0.3791 - val_loss: 2.3426 - val_accuracy: 0.3143\n",
            "Epoch 24/30\n",
            "66209/66209 [==============================] - 21s 315us/sample - loss: 2.0545 - accuracy: 0.3836 - val_loss: 2.3515 - val_accuracy: 0.3124\n",
            "Epoch 25/30\n",
            "66209/66209 [==============================] - 21s 311us/sample - loss: 2.0498 - accuracy: 0.3845 - val_loss: 2.3534 - val_accuracy: 0.3166\n",
            "Epoch 26/30\n",
            "66209/66209 [==============================] - 20s 307us/sample - loss: 2.0423 - accuracy: 0.3871 - val_loss: 2.3496 - val_accuracy: 0.3145\n",
            "Epoch 27/30\n",
            "66209/66209 [==============================] - 21s 312us/sample - loss: 2.0362 - accuracy: 0.3890 - val_loss: 2.3554 - val_accuracy: 0.3159\n",
            "Epoch 28/30\n",
            "66209/66209 [==============================] - 20s 307us/sample - loss: 2.0308 - accuracy: 0.3895 - val_loss: 2.3542 - val_accuracy: 0.3147\n"
          ],
          "name": "stdout"
        }
      ]
    },
    {
      "cell_type": "code",
      "metadata": {
        "colab": {
          "base_uri": "https://localhost:8080/",
          "height": 265
        },
        "id": "AkkG3lEOm4OS",
        "outputId": "20ae268f-3cbf-4242-bb6b-04b8f4dee93a"
      },
      "source": [
        "from matplotlib import pyplot as plt\n",
        "\n",
        "epochs_ran = len(h.history['loss'])\n",
        "\n",
        "plt.plot(range(0, epochs_ran), h.history['val_accuracy'], label='Validation')\n",
        "plt.plot(range(0, epochs_ran), h.history['accuracy'], label='Training')\n",
        "plt.legend()\n",
        "plt.show()"
      ],
      "execution_count": null,
      "outputs": [
        {
          "output_type": "display_data",
          "data": {
            "image/png": "[encoded data removed]",
            "text/plain": [
              "<Figure size 432x288 with 1 Axes>"
            ]
          },
          "metadata": {
            "tags": [],
            "needs_background": "light"
          }
        }
      ]
    },
    {
      "cell_type": "code",
      "metadata": {
        "id": "p_hI380MbDEX"
      },
      "source": [
        "model.save('superhero_model.h5')"
      ],
      "execution_count": null,
      "outputs": []
    },
    {
      "cell_type": "markdown",
      "metadata": {
        "id": "j74nkW5xRfRu"
      },
      "source": [
        "## Task 8: Generate Names!"
      ]
    },
    {
      "cell_type": "code",
      "metadata": {
        "id": "tm3T38JJE1Oc"
      },
      "source": [
        "def generate_names(seed):\n",
        "  for i in range(0, 40):\n",
        "    seq = name_to_seq(seed)\n",
        "    padded = tf.keras.preprocessing.sequence.pad_sequences([seq], padding='pre',\n",
        "                                                           maxlen=max_len-1,\n",
        "                                                           truncating='pre')\n",
        "    pred = model1.predict(padded)[0]\n",
        "    pred_char = index_to_char[tf.argmax(pred).numpy()]\n",
        "    seed += pred_char\n",
        "\n",
        "    if pred_char == '\\t':\n",
        "      break\n",
        "  return seed"
      ],
      "execution_count": null,
      "outputs": []
    },
    {
      "cell_type": "code",
      "metadata": {
        "colab": {
          "base_uri": "https://localhost:8080/",
          "height": 35
        },
        "id": "yg8Pib-EE2nm",
        "outputId": "e7f6aac7-c87e-4484-99b6-d9cbbda7c30a"
      },
      "source": [
        "generate_names(\"av\")"
      ],
      "execution_count": null,
      "outputs": [
        {
          "output_type": "execute_result",
          "data": {
            "application/vnd.google.colaboratory.intrinsic+json": {
              "type": "string"
            },
            "text/plain": [
              "'averan\\t'"
            ]
          },
          "metadata": {
            "tags": []
          },
          "execution_count": 42
        }
      ]
    }
  ]
}